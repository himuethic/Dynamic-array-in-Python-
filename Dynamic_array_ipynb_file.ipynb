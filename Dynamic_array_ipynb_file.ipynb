{
  "nbformat": 4,
  "nbformat_minor": 0,
  "metadata": {
    "colab": {
      "provenance": [],
      "authorship_tag": "ABX9TyNYaV7hb2TOY2hMDpwegTtX",
      "include_colab_link": true
    },
    "kernelspec": {
      "name": "python3",
      "display_name": "Python 3"
    },
    "language_info": {
      "name": "python"
    }
  },
  "cells": [
    {
      "cell_type": "markdown",
      "metadata": {
        "id": "view-in-github",
        "colab_type": "text"
      },
      "source": [
        "<a href=\"https://colab.research.google.com/github/himuethic/Dynamic-array-in-Python-/blob/main/Dynamic_array_ipynb_file.ipynb\" target=\"_parent\"><img src=\"https://colab.research.google.com/assets/colab-badge.svg\" alt=\"Open In Colab\"/></a>"
      ]
    },
    {
      "cell_type": "code",
      "source": [
        "import ctypes\n",
        "## create list"
      ],
      "metadata": {
        "id": "xr1jEOhLJ110"
      },
      "execution_count": null,
      "outputs": []
    },
    {
      "cell_type": "code",
      "source": [],
      "metadata": {
        "id": "WSLrAEsog0wY"
      },
      "execution_count": null,
      "outputs": []
    },
    {
      "cell_type": "code",
      "source": [
        "class MeraList:\n",
        "  def __init__(self):\n",
        "        self.size = 1\n",
        "        self.n = 0\n",
        "        self.A = self.__make_array(self.size)\n",
        "  def __len__(self):\n",
        "      return(self.n)\n",
        "\n",
        "  def __str__(self):\n",
        "   result = ''\n",
        "   for i in range(self.n):\n",
        "     result= result + str(self.A[i]) + ','\n",
        "   return'['+result[:-1]+']'\n",
        "  def __getitem__(self,index):\n",
        "    if 0<= index<self.n :\n",
        "      return self.A[index]\n",
        "    else:\n",
        "       return 'Index error - index out of range'\n",
        "\n",
        "  def __delitem__(self,pos):\n",
        "   if 0<=pos < self.n:\n",
        "    for i in range(pos,self.n-1):\n",
        "      self.A[i] = self.A[i+1]\n",
        "\n",
        "    self.n = self.n-1\n",
        "\n",
        "\n",
        "\n",
        "  def insert(self,pos,item):\n",
        "\n",
        "\n",
        "    if self.n == self.size:\n",
        "      self.__resize(self.size*2)\n",
        "\n",
        "\n",
        "    for i in range(self.n,pos,-1):\n",
        "     self.A[i] = self.A[i-1]\n",
        "\n",
        "    self.A[pos] = item\n",
        "    self.n = self.n + 1\n",
        "\n",
        "  def remove(self,item):\n",
        "   pos = self.find(item)\n",
        "\n",
        "   if type(pos) == int:\n",
        "     self.__delitem__(pos)\n",
        "   else:\n",
        "    return pos\n",
        "\n",
        "\n",
        "\n",
        "\n",
        "\n",
        "\n",
        "\n",
        "\n",
        "\n",
        "\n",
        "#resizee\n",
        "  def append(self,item):\n",
        "    if self.n == self.size:\n",
        "     self.__resize(self.size*2)\n",
        "#append\n",
        "    self.A[self.n] = item\n",
        "    self.n = self.n + 1\n",
        "\n",
        "  def pop(self):\n",
        "    if self.n == 0:\n",
        "      return 'Empty list '\n",
        "\n",
        "  def clear(self):\n",
        "    self.n = 0\n",
        "    self.n = 1\n",
        "\n",
        "  def find(self,item):\n",
        "\n",
        "\n",
        "    for i in range(self.n):\n",
        "     if self.A[i] == item:\n",
        "        return i\n",
        "\n",
        "    return ' Value error - not in list'\n",
        "\n",
        "\n",
        "    print(self.A[self.n-1])\n",
        "    self.n = self.n-1\n",
        "\n",
        "  def __resize(self,new_capacity):\n",
        "     B = self.__make_array(new_capacity)\n",
        "     self.size = new_capacity\n",
        "#copy the content a and\n",
        "     for i in range(self.n):\n",
        "       B[i] = self.A[i]\n",
        "    #resign\n",
        "     self.A = B\n",
        "\n",
        "\n",
        "  def __make_array(self, capacity):\n",
        "      return(capacity*ctypes.py_object)()"
      ],
      "metadata": {
        "id": "6eZbRNp4XTUX"
      },
      "execution_count": null,
      "outputs": []
    },
    {
      "cell_type": "code",
      "source": [
        "l = MeraList()"
      ],
      "metadata": {
        "id": "l3yrMZKPL77Z"
      },
      "execution_count": null,
      "outputs": []
    },
    {
      "cell_type": "code",
      "source": [
        "l.append('Himu')\n",
        "l.append(3.4)\n",
        "l.append(3)\n",
        "l.append(True)"
      ],
      "metadata": {
        "id": "90P-uJ7wLSRC"
      },
      "execution_count": null,
      "outputs": []
    },
    {
      "cell_type": "code",
      "source": [
        "l.remove(True)"
      ],
      "metadata": {
        "id": "TXeynRb9azO3"
      },
      "execution_count": null,
      "outputs": []
    },
    {
      "cell_type": "code",
      "source": [
        "print(l)"
      ],
      "metadata": {
        "colab": {
          "base_uri": "https://localhost:8080/"
        },
        "id": "jgIYQkgoi16T",
        "outputId": "26f3f45b-e910-4cc7-be21-c56b7a3fffa6"
      },
      "execution_count": null,
      "outputs": [
        {
          "output_type": "stream",
          "name": "stdout",
          "text": [
            "[3.4,3]\n"
          ]
        }
      ]
    }
  ]
}